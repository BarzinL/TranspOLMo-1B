{
 "cells": [
  {
   "cell_type": "markdown",
   "metadata": {},
   "source": [
    "# TranspOLMo2-1B: Kaggle Starter Notebook\n",
    "\n",
    "Quick setup for running transparency analysis on Kaggle.\n",
    "\n",
    "This notebook will:\n",
    "1. Clone the TranspOLMo2-1B repository\n",
    "2. Install dependencies\n",
    "3. Run a quick test to verify everything works\n",
    "4. Run full analysis with Kaggle-optimized settings\n",
    "5. Display results"
   ]
  },
  {
   "cell_type": "markdown",
   "metadata": {},
   "source": [
    "## Setup (Run Once)\n",
    "\n",
    "Clone the repository and install dependencies:"
   ]
  },
  {
   "cell_type": "code",
   "execution_count": null,
   "metadata": {},
   "outputs": [],
   "source": [
    "# Clone repository\n",
    "!git clone https://github.com/BarzinL/TranspOLMo2-1B.git\n",
    "%cd TranspOLMo2-1B\n",
    "\n",
    "# Install dependencies (includes accelerate for multi-GPU support)\n",
    "!pip install -q -e .[all]"
   ]
  },
  {
   "cell_type": "code",
   "execution_count": null,
   "metadata": {},
   "outputs": [],
   "source": [
    "# Verify GPU is available\n",
    "!nvidia-smi"
   ]
  },
  {
   "cell_type": "markdown",
   "metadata": {},
   "source": [
    "## Quick Test\n",
    "\n",
    "Run a minimal test to verify everything works:"
   ]
  },
  {
   "cell_type": "code",
   "execution_count": null,
   "metadata": {},
   "outputs": [],
   "source": [
    "# Run minimal test (uses very little memory)\n",
    "!python scripts/minimal_test.py"
   ]
  },
  {
   "cell_type": "markdown",
   "metadata": {},
   "source": [
    "## Full Analysis\n",
    "\n",
    "Run the complete transparency analysis pipeline with Kaggle-optimized configuration:\n",
    "\n",
    "- Model: OLMo-2-0425-1B (1B parameters)\n",
    "- Samples: 10,000 \n",
    "- Layers: [0, 6, 11] (representative layers)\n",
    "- Precision: float16 (memory efficient)\n",
    "- SAE training: Skipped (for faster initial run)\n",
    "\n",
    "Results will be saved to `/kaggle/working/results/`"
   ]
  },
  {
   "cell_type": "code",
   "execution_count": null,
   "metadata": {},
   "outputs": [],
   "source": [
    "# Run full analysis with Kaggle config\n",
    "!python scripts/run_full_analysis.py --config configs/kaggle.yaml"
   ]
  },
  {
   "cell_type": "markdown",
   "metadata": {},
   "source": [
    "## View Results\n",
    "\n",
    "Display the transparency scores and summary:"
   ]
  },
  {
   "cell_type": "code",
   "execution_count": null,
   "metadata": {},
   "outputs": [],
   "source": [
    "import json\n",
    "from pathlib import Path\n",
    "\n",
    "# Display transparency scores\n",
    "scores_path = Path('/kaggle/working/results/transparency_scores.json')\n",
    "if scores_path.exists():\n",
    "    with open(scores_path) as f:\n",
    "        scores = json.load(f)\n",
    "        print(\"=\"*60)\n",
    "        print(\"TRANSPARENCY ANALYSIS RESULTS\")\n",
    "        print(\"=\"*60)\n",
    "        print(json.dumps(scores, indent=2))\n",
    "        print(\"\\n\" + \"=\"*60)\n",
    "        print(f\"Transparency Score: {scores['transparency_score']:.2%}\")\n",
    "        print(f\"Features Discovered: {scores['total_features_discovered']}\")\n",
    "        print(f\"Circuits Analyzed: {scores['total_circuits_discovered']}\")\n",
    "        print(\"=\"*60)\n",
    "else:\n",
    "    print(\"Results not found. Make sure the analysis completed successfully.\")"
   ]
  },
  {
   "cell_type": "markdown",
   "metadata": {},
   "source": [
    "## Download Results\n",
    "\n",
    "All results are saved to `/kaggle/working/results/`:\n",
    "\n",
    "- `transparency_scores.json` - Quick summary of results\n",
    "- `geometric_analysis.json` - Layer geometry analysis\n",
    "- `model_documentation.json` - Complete documentation\n",
    "- `model_documentation.md` - Human-readable report\n",
    "- `summary.json` - Analysis summary\n",
    "\n",
    "Use Kaggle's \"Save Version\" to preserve all outputs, or download specific files using the data panel."
   ]
  },
  {
   "cell_type": "markdown",
   "metadata": {},
   "source": [
    "## Advanced Options\n",
    "\n",
    "You can override any config settings via command line arguments:"
   ]
  },
  {
   "cell_type": "code",
   "execution_count": null,
   "metadata": {},
   "outputs": [],
   "source": [
    "# Example: Run with different settings\n",
    "# !python scripts/run_full_analysis.py \\\n",
    "#     --config configs/kaggle.yaml \\\n",
    "#     --num-samples 20000 \\\n",
    "#     --layers \"0,6,11\" \\\n",
    "#     --skip-sae  # Skip SAE training for faster runs"
   ]
  }
 ],
 "metadata": {
  "kernelspec": {
   "display_name": "Python 3",
   "language": "python",
   "name": "python3"
  },
  "language_info": {
   "codemirror_mode": {
    "name": "ipython",
    "version": 3
   },
   "file_extension": ".py",
   "mimetype": "text/x-python",
   "name": "python",
   "nbconvert_exporter": "python",
   "pygments_lexer": "ipython3",
   "version": "3.10.0"
  },
  "accelerator": "GPU"
 },
 "nbformat": 4,
 "nbformat_minor": 4
}