"""
TranspOLMo2-1B: Kaggle Starter Notebook
Quick setup for running transparency analysis on Kaggle
"""

# ===== SETUP (Run Once) =====
!git clone https://github.com/BarzinL/TranspOLMo2-1B.git
%cd TranspOLMo2-1B
!pip install -q -e .[all]

# Verify GPU
!nvidia-smi

# ===== QUICK TEST =====
# Run minimal test to verify everything works
!python scripts/minimal_test.py

# ===== FULL ANALYSIS =====
# Run with Kaggle-optimized config
!python scripts/run_full_analysis.py --config configs/kaggle.yaml

# ===== VIEW RESULTS =====
import json
with open('/kaggle/working/results/transparency_scores.json') as f:
    scores = json.load(f)
    print(json.dumps(scores, indent=2))

# ===== DOWNLOAD RESULTS =====
# Results saved to /kaggle/working/results/
# Use Kaggle's "Save Version" to preserve outputs
