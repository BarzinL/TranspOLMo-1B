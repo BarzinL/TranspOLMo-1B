{
 "cells": [
  {
   "cell_type": "markdown",
   "metadata": {},
   "source": [
    "# TranspOLMo Quick Start Guide\n",
    "\n",
    "This notebook demonstrates the basic functionality of the TranspOLMo interpretability framework."
   ]
  },
  {
   "cell_type": "code",
   "execution_count": null,
   "metadata": {},
   "outputs": [],
   "source": [
    "import sys\n",
    "sys.path.insert(0, '..')\n",
    "\n",
    "import torch\n",
    "from src.models.loader import OLMo2Loader\n",
    "from src.models.hooks import ActivationCapture\n",
    "from src.analysis.geometry.manifold import ManifoldAnalyzer"
   ]
  },
  {
   "cell_type": "markdown",
   "metadata": {},
   "source": [
    "## 1. Load Model\n",
    "\n",
    "Load the OLMo2-1B model and inspect its architecture."
   ]
  },
  {
   "cell_type": "code",
   "execution_count": null,
   "metadata": {},
   "outputs": [],
   "source": [
    "# Initialize loader\n",
    "loader = OLMo2Loader(\n",
    "    model_name=\"allenai/OLMo-2-0425-1B\",\n",
    "    cache_dir=\"../data/models\",\n",
    "    device=\"cuda\" if torch.cuda.is_available() else \"cpu\"\n",
    ")\n",
    "\n",
    "# Load model and tokenizer\n",
    "model, tokenizer = loader.load()\n",
    "arch_info = loader.get_architecture_info(model)\n",
    "\n",
    "print(f\"Model: {arch_info['model_name']}\")\n",
    "print(f\"Size: {arch_info['model_size']}\")\n",
    "print(f\"Layers: {arch_info['num_layers']}\")\n",
    "print(f\"Hidden size: {arch_info['hidden_size']}\")"
   ]
  },
  {
   "cell_type": "markdown",
   "metadata": {},
   "source": [
    "## 2. Capture Activations\n",
    "\n",
    "Hook into a specific layer and capture activations during forward pass."
   ]
  },
  {
   "cell_type": "code",
   "execution_count": null,
   "metadata": {},
   "outputs": [],
   "source": [
    "# Example texts\n",
    "texts = [\n",
    "    \"The quick brown fox jumps over the lazy dog.\",\n",
    "    \"In the beginning, there was nothing but darkness.\",\n",
    "    \"Machine learning is transforming artificial intelligence.\",\n",
    "    \"The capital of France is Paris, a beautiful city.\",\n",
    "    \"Python is a popular programming language.\"\n",
    "]\n",
    "\n",
    "# Capture activations from middle layer\n",
    "middle_layer = arch_info['num_layers'] // 2\n",
    "layer_name = f\"model.layers.{middle_layer}.mlp\"\n",
    "\n",
    "with ActivationCapture(model, device='cpu') as capturer:\n",
    "    capturer.register_hooks([layer_name])\n",
    "    \n",
    "    for text in texts:\n",
    "        inputs = tokenizer(text, return_tensors='pt', max_length=128, truncation=True)\n",
    "        inputs = {k: v.to(model.device) for k, v in inputs.items()}\n",
    "        \n",
    "        with torch.no_grad():\n",
    "            outputs = model(**inputs)\n",
    "    \n",
    "    activations = capturer.get_activations()\n",
    "\n",
    "print(f\"Captured activations from {layer_name}\")\n",
    "print(f\"Shape: {activations[layer_name].shape}\")"
   ]
  },
  {
   "cell_type": "markdown",
   "metadata": {},
   "source": [
    "## 3. Geometric Analysis\n",
    "\n",
    "Analyze the geometric structure of the activation manifold."
   ]
  },
  {
   "cell_type": "code",
   "execution_count": null,
   "metadata": {},
   "outputs": [],
   "source": [
    "analyzer = ManifoldAnalyzer(activations[layer_name])\n",
    "\n",
    "# Estimate intrinsic dimension\n",
    "intrinsic_dim = analyzer.estimate_intrinsic_dimension()\n",
    "\n",
    "print(\"Intrinsic Dimensionality:\")\n",
    "print(f\"  Ambient dimension: {intrinsic_dim['ambient_dimension']}\")\n",
    "print(f\"  90% variance: {intrinsic_dim['intrinsic_dim_90pct_var']} dimensions\")\n",
    "print(f\"  95% variance: {intrinsic_dim['intrinsic_dim_95pct_var']} dimensions\")\n",
    "print(f\"  99% variance: {intrinsic_dim['intrinsic_dim_99pct_var']} dimensions\")\n",
    "print(f\"  Compression ratio: {intrinsic_dim['compression_ratio']:.2f}x\")"
   ]
  },
  {
   "cell_type": "code",
   "execution_count": null,
   "metadata": {},
   "outputs": [],
   "source": [
    "# Analyze local geometry\n",
    "local_geom = analyzer.compute_local_geometry()\n",
    "\n",
    "print(\"\\nLocal Geometry:\")\n",
    "print(f\"  Type: {local_geom['geometry_type']}\")\n",
    "print(f\"  Mean distance: {local_geom['mean_local_distance']:.4f}\")\n",
    "print(f\"  Mean curvature: {local_geom['mean_local_curvature']:.4f}\")"
   ]
  },
  {
   "cell_type": "code",
   "execution_count": null,
   "metadata": {},
   "outputs": [],
   "source": [
    "# Activation statistics\n",
    "stats = analyzer.compute_activation_statistics()\n",
    "\n",
    "print(\"\\nActivation Statistics:\")\n",
    "print(f\"  Mean: {stats['mean']:.4f}\")\n",
    "print(f\"  Std: {stats['std']:.4f}\")\n",
    "print(f\"  Sparsity: {stats['sparsity']:.2%}\")\n",
    "print(f\"  Positive fraction: {stats['positive_fraction']:.2%}\")"
   ]
  },
  {
   "cell_type": "markdown",
   "metadata": {},
   "source": [
    "## 4. Circuit Discovery\n",
    "\n",
    "Analyze attention patterns to discover computational circuits."
   ]
  },
  {
   "cell_type": "code",
   "execution_count": null,
   "metadata": {},
   "outputs": [],
   "source": [
    "from src.analysis.circuits.discovery import CircuitDiscovery\n",
    "\n",
    "discoverer = CircuitDiscovery(model, tokenizer)\n",
    "\n",
    "# Trace attention patterns\n",
    "input_text = \"The capital of France is Paris\"\n",
    "patterns = discoverer.trace_attention_patterns(input_text)\n",
    "\n",
    "print(f\"Input: {patterns['input_text']}\")\n",
    "print(f\"Tokens: {patterns['tokens']}\")\n",
    "print(f\"\\nAttention Patterns:\")\n",
    "\n",
    "for layer_info in patterns['attention_patterns'][:3]:  # Show first 3 layers\n",
    "    print(f\"\\nLayer {layer_info['layer']}:\")\n",
    "    for head_info in layer_info['heads'][:2]:  # Show first 2 heads\n",
    "        print(f\"  Head {head_info['head']}: {head_info['pattern_type']}\")"
   ]
  },
  {
   "cell_type": "markdown",
   "metadata": {},
   "source": [
    "## 5. Next Steps\n",
    "\n",
    "- Run the full analysis pipeline: `python scripts/run_full_analysis.py`\n",
    "- Train Sparse Autoencoders for feature extraction\n",
    "- Explore the generated documentation in `docs/findings/`\n",
    "- Experiment with different layers and analysis parameters"
   ]
  },
  {
   "cell_type": "markdown",
   "metadata": {},
   "source": [
    "## Cleanup"
   ]
  },
  {
   "cell_type": "code",
   "execution_count": null,
   "metadata": {},
   "outputs": [],
   "source": [
    "# Free GPU memory\n",
    "import gc\n",
    "del model\n",
    "torch.cuda.empty_cache()\n",
    "gc.collect()"
   ]
  }
 ],
 "metadata": {
  "kernelspec": {
   "display_name": "Python 3",
   "language": "python",
   "name": "python3"
  },
  "language_info": {
   "codemirror_mode": {
    "name": "ipython",
    "version": 3
   },
   "file_extension": ".py",
   "mimetype": "text/x-python",
   "name": "python",
   "nbconvert_exporter": "python",
   "pygments_lexer": "ipython3",
   "version": "3.10.0"
  }
 },
 "nbformat": 4,
 "nbformat_minor": 4
}